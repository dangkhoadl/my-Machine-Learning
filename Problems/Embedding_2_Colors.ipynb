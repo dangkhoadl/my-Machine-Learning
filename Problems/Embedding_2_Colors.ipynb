{
 "cells": [
  {
   "cell_type": "markdown",
   "metadata": {},
   "source": [
    "# [Color Embedding](https://philippmuens.com/word2vec-intuition/)"
   ]
  },
  {
   "cell_type": "code",
   "execution_count": 1,
   "metadata": {},
   "outputs": [],
   "source": [
    "import json\n",
    "\n",
    "import pandas as pd\n",
    "import seaborn as sns\n",
    "import numpy as np\n",
    "from IPython.display import HTML, display\n",
    "\n",
    "# prettier Matplotlib plots\n",
    "import matplotlib.pyplot as plt\n",
    "import matplotlib.style as style\n",
    "style.use('seaborn')"
   ]
  },
  {
   "cell_type": "markdown",
   "metadata": {},
   "source": [
    "# 1. Dataset"
   ]
  },
  {
   "cell_type": "markdown",
   "metadata": {},
   "source": [
    "#### Download"
   ]
  },
  {
   "cell_type": "code",
   "execution_count": 2,
   "metadata": {},
   "outputs": [],
   "source": [
    "%%bash\n",
    "if [[ ! -f  \"data/colors-256.json\" ]]; then\n",
    "    mkdir -p data\n",
    "    wget -nc \\\n",
    "        https://jonasjacek.github.io/colors/data.json \\\n",
    "        -O data/colors-256.json 2> /dev/null\n",
    "fi"
   ]
  },
  {
   "cell_type": "code",
   "execution_count": 3,
   "metadata": {},
   "outputs": [
    {
     "data": {
      "text/plain": [
       "[{'colorId': 0,\n",
       "  'hexString': '#000000',\n",
       "  'rgb': {'r': 0, 'g': 0, 'b': 0},\n",
       "  'hsl': {'h': 0, 's': 0, 'l': 0},\n",
       "  'name': 'Black'},\n",
       " {'colorId': 1,\n",
       "  'hexString': '#800000',\n",
       "  'rgb': {'r': 128, 'g': 0, 'b': 0},\n",
       "  'hsl': {'h': 0, 's': 100, 'l': 25},\n",
       "  'name': 'Maroon'},\n",
       " {'colorId': 2,\n",
       "  'hexString': '#008000',\n",
       "  'rgb': {'r': 0, 'g': 128, 'b': 0},\n",
       "  'hsl': {'h': 120, 's': 100, 'l': 25},\n",
       "  'name': 'Green'},\n",
       " {'colorId': 3,\n",
       "  'hexString': '#808000',\n",
       "  'rgb': {'r': 128, 'g': 128, 'b': 0},\n",
       "  'hsl': {'h': 60, 's': 100, 'l': 25},\n",
       "  'name': 'Olive'},\n",
       " {'colorId': 4,\n",
       "  'hexString': '#000080',\n",
       "  'rgb': {'r': 0, 'g': 0, 'b': 128},\n",
       "  'hsl': {'h': 240, 's': 100, 'l': 25},\n",
       "  'name': 'Navy'}]"
      ]
     },
     "execution_count": 3,
     "metadata": {},
     "output_type": "execute_result"
    }
   ],
   "source": [
    "color_data = json.loads(open(\"data/colors-256.json\", 'r').read())\n",
    "color_data[:5]"
   ]
  },
  {
   "cell_type": "markdown",
   "metadata": {},
   "source": [
    "#### Preprocess"
   ]
  },
  {
   "cell_type": "code",
   "execution_count": 4,
   "metadata": {},
   "outputs": [],
   "source": [
    "colors = dict()\n",
    "\n",
    "for color in color_data:\n",
    "    name = color['name'].lower()\n",
    "    r = color['rgb']['r']\n",
    "    g = color['rgb']['g']\n",
    "    b = color['rgb']['b']\n",
    "    rgb = tuple([r, g, b])\n",
    "    colors[name] = rgb"
   ]
  },
  {
   "cell_type": "code",
   "execution_count": 5,
   "metadata": {},
   "outputs": [
    {
     "name": "stdout",
     "output_type": "stream",
     "text": [
      "Black: (0, 0, 0)\n",
      "White: (255, 255, 255)\n",
      "Red: (255, 0, 0)\n",
      "Lime: (0, 255, 0)\n",
      "Blue: (0, 0, 255)\n"
     ]
    }
   ],
   "source": [
    "print('Black: %s' % (colors['black'],))\n",
    "print('White: %s' % (colors['white'],))\n",
    "print('Red: %s' % (colors['red'],))\n",
    "print('Lime: %s' % (colors['lime'],))\n",
    "print('Blue: %s' % (colors['blue'],))"
   ]
  },
  {
   "cell_type": "code",
   "execution_count": 6,
   "metadata": {},
   "outputs": [
    {
     "data": {
      "text/html": [
       "<div>\n",
       "<style scoped>\n",
       "    .dataframe tbody tr th:only-of-type {\n",
       "        vertical-align: middle;\n",
       "    }\n",
       "\n",
       "    .dataframe tbody tr th {\n",
       "        vertical-align: top;\n",
       "    }\n",
       "\n",
       "    .dataframe thead th {\n",
       "        text-align: right;\n",
       "    }\n",
       "</style>\n",
       "<table border=\"1\" class=\"dataframe\">\n",
       "  <thead>\n",
       "    <tr style=\"text-align: right;\">\n",
       "      <th></th>\n",
       "      <th>r</th>\n",
       "      <th>g</th>\n",
       "      <th>b</th>\n",
       "    </tr>\n",
       "  </thead>\n",
       "  <tbody>\n",
       "    <tr>\n",
       "      <td>black</td>\n",
       "      <td>0</td>\n",
       "      <td>0</td>\n",
       "      <td>0</td>\n",
       "    </tr>\n",
       "    <tr>\n",
       "      <td>maroon</td>\n",
       "      <td>128</td>\n",
       "      <td>0</td>\n",
       "      <td>0</td>\n",
       "    </tr>\n",
       "    <tr>\n",
       "      <td>green</td>\n",
       "      <td>0</td>\n",
       "      <td>128</td>\n",
       "      <td>0</td>\n",
       "    </tr>\n",
       "    <tr>\n",
       "      <td>olive</td>\n",
       "      <td>128</td>\n",
       "      <td>128</td>\n",
       "      <td>0</td>\n",
       "    </tr>\n",
       "    <tr>\n",
       "      <td>navy</td>\n",
       "      <td>0</td>\n",
       "      <td>0</td>\n",
       "      <td>128</td>\n",
       "    </tr>\n",
       "  </tbody>\n",
       "</table>\n",
       "</div>"
      ],
      "text/plain": [
       "          r    g    b\n",
       "black     0    0    0\n",
       "maroon  128    0    0\n",
       "green     0  128    0\n",
       "olive   128  128    0\n",
       "navy      0    0  128"
      ]
     },
     "execution_count": 6,
     "metadata": {},
     "output_type": "execute_result"
    }
   ],
   "source": [
    "df = pd.DataFrame.from_dict(\n",
    "    data=colors,\n",
    "    orient='index',\n",
    "    columns=['r', 'g', 'b'])\n",
    "df.head()"
   ]
  },
  {
   "cell_type": "markdown",
   "metadata": {},
   "source": [
    "# 2. Model"
   ]
  },
  {
   "cell_type": "markdown",
   "metadata": {},
   "source": [
    "#### Visualize color"
   ]
  },
  {
   "cell_type": "code",
   "execution_count": 7,
   "metadata": {},
   "outputs": [],
   "source": [
    "def render_color(color: tuple) -> None:\n",
    "    '''Render color (r, g, b)'''\n",
    "    (r, g, b) = color\n",
    "    \n",
    "    display(HTML('''\n",
    "      <div style=\"background-color: rgba(%d, %d, %d, 1); height: 20px;\"></div>\n",
    "    ''' % (r, g, b)),\n",
    "    metadata=dict(isolated=True))"
   ]
  },
  {
   "cell_type": "code",
   "execution_count": 8,
   "metadata": {},
   "outputs": [
    {
     "data": {
      "text/html": [
       "\n",
       "      <div style=\"background-color: rgba(0, 0, 0, 1); height: 20px;\"></div>\n",
       "    "
      ],
      "text/plain": [
       "<IPython.core.display.HTML object>"
      ]
     },
     "metadata": {
      "isolated": true
     },
     "output_type": "display_data"
    }
   ],
   "source": [
    "render_color( (0, 0, 0) )"
   ]
  },
  {
   "cell_type": "code",
   "execution_count": 9,
   "metadata": {},
   "outputs": [
    {
     "data": {
      "text/html": [
       "\n",
       "      <div style=\"background-color: rgba(128, 128, 1, 1); height: 20px;\"></div>\n",
       "    "
      ],
      "text/plain": [
       "<IPython.core.display.HTML object>"
      ]
     },
     "metadata": {
      "isolated": true
     },
     "output_type": "display_data"
    }
   ],
   "source": [
    "render_color( (128, 128, 1) )"
   ]
  },
  {
   "cell_type": "markdown",
   "metadata": {},
   "source": [
    "#### Cosine similarity\n",
    "$$\\text{similarity}\\ =\\ cos(\\theta)\\ =\\ \\frac{A \\cdot B}{\\| A \\| \\| B \\|}$$"
   ]
  },
  {
   "cell_type": "code",
   "execution_count": 10,
   "metadata": {},
   "outputs": [],
   "source": [
    "def similar(df, coord, n=10):\n",
    "    # RGB values (3D coordinates) into a numpy array\n",
    "    v1 = np.array(coord, dtype=np.float64)\n",
    "\n",
    "    df_copy = df.copy()\n",
    "    for i in df_copy.index:\n",
    "        item = df_copy.loc[i]\n",
    "        v2 = np.array([item.r, item.g, item.b], dtype=np.float64)\n",
    "\n",
    "        #### cosine similarty ####\n",
    "        theta_sum = np.dot(v1, v2)\n",
    "        theta_den = np.linalg.norm(v1) * np.linalg.norm(v2)\n",
    "\n",
    "        # check if we're trying to divide by 0\n",
    "        if theta_den == 0:\n",
    "            theta = None\n",
    "        else:\n",
    "            theta = theta_sum / theta_den\n",
    "\n",
    "        # adding the `distance` column with the result of our computation\n",
    "        df_copy.at[i, 'distance'] = theta\n",
    "\n",
    "    # sorting the resulting DataFrame by distance\n",
    "    df_copy.sort_values(\n",
    "        by='distance',\n",
    "        axis=0,\n",
    "        ascending=False,\n",
    "        inplace=True)\n",
    "    \n",
    "    return df_copy.head(n)"
   ]
  },
  {
   "cell_type": "markdown",
   "metadata": {},
   "source": [
    "# 3. Test similar color"
   ]
  },
  {
   "cell_type": "markdown",
   "metadata": {},
   "source": [
    "#### Similar color to red"
   ]
  },
  {
   "cell_type": "code",
   "execution_count": 11,
   "metadata": {},
   "outputs": [
    {
     "data": {
      "text/html": [
       "\n",
       "      <div style=\"background-color: rgba(255, 0, 0, 1); height: 20px;\"></div>\n",
       "    "
      ],
      "text/plain": [
       "<IPython.core.display.HTML object>"
      ]
     },
     "metadata": {
      "isolated": true
     },
     "output_type": "display_data"
    }
   ],
   "source": [
    "render_color(colors['red'])"
   ]
  },
  {
   "cell_type": "code",
   "execution_count": 12,
   "metadata": {},
   "outputs": [
    {
     "data": {
      "text/html": [
       "<div>\n",
       "<style scoped>\n",
       "    .dataframe tbody tr th:only-of-type {\n",
       "        vertical-align: middle;\n",
       "    }\n",
       "\n",
       "    .dataframe tbody tr th {\n",
       "        vertical-align: top;\n",
       "    }\n",
       "\n",
       "    .dataframe thead th {\n",
       "        text-align: right;\n",
       "    }\n",
       "</style>\n",
       "<table border=\"1\" class=\"dataframe\">\n",
       "  <thead>\n",
       "    <tr style=\"text-align: right;\">\n",
       "      <th></th>\n",
       "      <th>r</th>\n",
       "      <th>g</th>\n",
       "      <th>b</th>\n",
       "      <th>distance</th>\n",
       "    </tr>\n",
       "  </thead>\n",
       "  <tbody>\n",
       "    <tr>\n",
       "      <td>maroon</td>\n",
       "      <td>128</td>\n",
       "      <td>0</td>\n",
       "      <td>0</td>\n",
       "      <td>1.000000</td>\n",
       "    </tr>\n",
       "    <tr>\n",
       "      <td>red3</td>\n",
       "      <td>215</td>\n",
       "      <td>0</td>\n",
       "      <td>0</td>\n",
       "      <td>1.000000</td>\n",
       "    </tr>\n",
       "    <tr>\n",
       "      <td>red1</td>\n",
       "      <td>255</td>\n",
       "      <td>0</td>\n",
       "      <td>0</td>\n",
       "      <td>1.000000</td>\n",
       "    </tr>\n",
       "    <tr>\n",
       "      <td>darkred</td>\n",
       "      <td>135</td>\n",
       "      <td>0</td>\n",
       "      <td>0</td>\n",
       "      <td>1.000000</td>\n",
       "    </tr>\n",
       "    <tr>\n",
       "      <td>red</td>\n",
       "      <td>255</td>\n",
       "      <td>0</td>\n",
       "      <td>0</td>\n",
       "      <td>1.000000</td>\n",
       "    </tr>\n",
       "    <tr>\n",
       "      <td>orangered1</td>\n",
       "      <td>255</td>\n",
       "      <td>95</td>\n",
       "      <td>0</td>\n",
       "      <td>0.937082</td>\n",
       "    </tr>\n",
       "    <tr>\n",
       "      <td>deeppink2</td>\n",
       "      <td>255</td>\n",
       "      <td>0</td>\n",
       "      <td>95</td>\n",
       "      <td>0.937082</td>\n",
       "    </tr>\n",
       "    <tr>\n",
       "      <td>darkorange3</td>\n",
       "      <td>215</td>\n",
       "      <td>95</td>\n",
       "      <td>0</td>\n",
       "      <td>0.914687</td>\n",
       "    </tr>\n",
       "    <tr>\n",
       "      <td>darkorange</td>\n",
       "      <td>255</td>\n",
       "      <td>135</td>\n",
       "      <td>0</td>\n",
       "      <td>0.883788</td>\n",
       "    </tr>\n",
       "    <tr>\n",
       "      <td>deeppink4</td>\n",
       "      <td>175</td>\n",
       "      <td>0</td>\n",
       "      <td>95</td>\n",
       "      <td>0.878853</td>\n",
       "    </tr>\n",
       "  </tbody>\n",
       "</table>\n",
       "</div>"
      ],
      "text/plain": [
       "               r    g   b  distance\n",
       "maroon       128    0   0  1.000000\n",
       "red3         215    0   0  1.000000\n",
       "red1         255    0   0  1.000000\n",
       "darkred      135    0   0  1.000000\n",
       "red          255    0   0  1.000000\n",
       "orangered1   255   95   0  0.937082\n",
       "deeppink2    255    0  95  0.937082\n",
       "darkorange3  215   95   0  0.914687\n",
       "darkorange   255  135   0  0.883788\n",
       "deeppink4    175    0  95  0.878853"
      ]
     },
     "execution_count": 12,
     "metadata": {},
     "output_type": "execute_result"
    }
   ],
   "source": [
    "df_red = similar(df, colors['red'])\n",
    "df_red"
   ]
  },
  {
   "cell_type": "code",
   "execution_count": 13,
   "metadata": {},
   "outputs": [
    {
     "data": {
      "text/html": [
       "\n",
       "      <div style=\"background-color: rgba(128, 0, 0, 1); height: 20px;\"></div>\n",
       "    "
      ],
      "text/plain": [
       "<IPython.core.display.HTML object>"
      ]
     },
     "metadata": {
      "isolated": true
     },
     "output_type": "display_data"
    },
    {
     "data": {
      "text/html": [
       "\n",
       "      <div style=\"background-color: rgba(215, 0, 0, 1); height: 20px;\"></div>\n",
       "    "
      ],
      "text/plain": [
       "<IPython.core.display.HTML object>"
      ]
     },
     "metadata": {
      "isolated": true
     },
     "output_type": "display_data"
    },
    {
     "data": {
      "text/html": [
       "\n",
       "      <div style=\"background-color: rgba(255, 0, 0, 1); height: 20px;\"></div>\n",
       "    "
      ],
      "text/plain": [
       "<IPython.core.display.HTML object>"
      ]
     },
     "metadata": {
      "isolated": true
     },
     "output_type": "display_data"
    },
    {
     "data": {
      "text/html": [
       "\n",
       "      <div style=\"background-color: rgba(135, 0, 0, 1); height: 20px;\"></div>\n",
       "    "
      ],
      "text/plain": [
       "<IPython.core.display.HTML object>"
      ]
     },
     "metadata": {
      "isolated": true
     },
     "output_type": "display_data"
    },
    {
     "data": {
      "text/html": [
       "\n",
       "      <div style=\"background-color: rgba(255, 0, 0, 1); height: 20px;\"></div>\n",
       "    "
      ],
      "text/plain": [
       "<IPython.core.display.HTML object>"
      ]
     },
     "metadata": {
      "isolated": true
     },
     "output_type": "display_data"
    },
    {
     "data": {
      "text/html": [
       "\n",
       "      <div style=\"background-color: rgba(255, 95, 0, 1); height: 20px;\"></div>\n",
       "    "
      ],
      "text/plain": [
       "<IPython.core.display.HTML object>"
      ]
     },
     "metadata": {
      "isolated": true
     },
     "output_type": "display_data"
    },
    {
     "data": {
      "text/html": [
       "\n",
       "      <div style=\"background-color: rgba(255, 0, 95, 1); height: 20px;\"></div>\n",
       "    "
      ],
      "text/plain": [
       "<IPython.core.display.HTML object>"
      ]
     },
     "metadata": {
      "isolated": true
     },
     "output_type": "display_data"
    },
    {
     "data": {
      "text/html": [
       "\n",
       "      <div style=\"background-color: rgba(215, 95, 0, 1); height: 20px;\"></div>\n",
       "    "
      ],
      "text/plain": [
       "<IPython.core.display.HTML object>"
      ]
     },
     "metadata": {
      "isolated": true
     },
     "output_type": "display_data"
    },
    {
     "data": {
      "text/html": [
       "\n",
       "      <div style=\"background-color: rgba(255, 135, 0, 1); height: 20px;\"></div>\n",
       "    "
      ],
      "text/plain": [
       "<IPython.core.display.HTML object>"
      ]
     },
     "metadata": {
      "isolated": true
     },
     "output_type": "display_data"
    },
    {
     "data": {
      "text/html": [
       "\n",
       "      <div style=\"background-color: rgba(175, 0, 95, 1); height: 20px;\"></div>\n",
       "    "
      ],
      "text/plain": [
       "<IPython.core.display.HTML object>"
      ]
     },
     "metadata": {
      "isolated": true
     },
     "output_type": "display_data"
    }
   ],
   "source": [
    "for c in df_red.index:\n",
    "    render_color(colors['{}'.format(c)])"
   ]
  },
  {
   "cell_type": "markdown",
   "metadata": {},
   "source": [
    "#### Similar color to (100, 20, 120)"
   ]
  },
  {
   "cell_type": "code",
   "execution_count": 14,
   "metadata": {},
   "outputs": [
    {
     "data": {
      "text/html": [
       "\n",
       "      <div style=\"background-color: rgba(100, 20, 120, 1); height: 20px;\"></div>\n",
       "    "
      ],
      "text/plain": [
       "<IPython.core.display.HTML object>"
      ]
     },
     "metadata": {
      "isolated": true
     },
     "output_type": "display_data"
    }
   ],
   "source": [
    "render_color((100, 20, 120))"
   ]
  },
  {
   "cell_type": "code",
   "execution_count": 15,
   "metadata": {},
   "outputs": [
    {
     "data": {
      "text/html": [
       "<div>\n",
       "<style scoped>\n",
       "    .dataframe tbody tr th:only-of-type {\n",
       "        vertical-align: middle;\n",
       "    }\n",
       "\n",
       "    .dataframe tbody tr th {\n",
       "        vertical-align: top;\n",
       "    }\n",
       "\n",
       "    .dataframe thead th {\n",
       "        text-align: right;\n",
       "    }\n",
       "</style>\n",
       "<table border=\"1\" class=\"dataframe\">\n",
       "  <thead>\n",
       "    <tr style=\"text-align: right;\">\n",
       "      <th></th>\n",
       "      <th>r</th>\n",
       "      <th>g</th>\n",
       "      <th>b</th>\n",
       "      <th>distance</th>\n",
       "    </tr>\n",
       "  </thead>\n",
       "  <tbody>\n",
       "    <tr>\n",
       "      <td>darkviolet</td>\n",
       "      <td>175</td>\n",
       "      <td>0</td>\n",
       "      <td>215</td>\n",
       "      <td>0.991837</td>\n",
       "    </tr>\n",
       "    <tr>\n",
       "      <td>darkmagenta</td>\n",
       "      <td>135</td>\n",
       "      <td>0</td>\n",
       "      <td>175</td>\n",
       "      <td>0.991199</td>\n",
       "    </tr>\n",
       "    <tr>\n",
       "      <td>magenta1</td>\n",
       "      <td>255</td>\n",
       "      <td>0</td>\n",
       "      <td>255</td>\n",
       "      <td>0.987829</td>\n",
       "    </tr>\n",
       "    <tr>\n",
       "      <td>magenta3</td>\n",
       "      <td>215</td>\n",
       "      <td>0</td>\n",
       "      <td>215</td>\n",
       "      <td>0.987829</td>\n",
       "    </tr>\n",
       "    <tr>\n",
       "      <td>fuchsia</td>\n",
       "      <td>255</td>\n",
       "      <td>0</td>\n",
       "      <td>255</td>\n",
       "      <td>0.987829</td>\n",
       "    </tr>\n",
       "    <tr>\n",
       "      <td>mediumorchid1</td>\n",
       "      <td>255</td>\n",
       "      <td>95</td>\n",
       "      <td>255</td>\n",
       "      <td>0.987592</td>\n",
       "    </tr>\n",
       "    <tr>\n",
       "      <td>purple</td>\n",
       "      <td>175</td>\n",
       "      <td>0</td>\n",
       "      <td>255</td>\n",
       "      <td>0.987590</td>\n",
       "    </tr>\n",
       "    <tr>\n",
       "      <td>orchid</td>\n",
       "      <td>215</td>\n",
       "      <td>95</td>\n",
       "      <td>215</td>\n",
       "      <td>0.980753</td>\n",
       "    </tr>\n",
       "    <tr>\n",
       "      <td>mediumorchid</td>\n",
       "      <td>175</td>\n",
       "      <td>95</td>\n",
       "      <td>215</td>\n",
       "      <td>0.979443</td>\n",
       "    </tr>\n",
       "    <tr>\n",
       "      <td>magenta2</td>\n",
       "      <td>255</td>\n",
       "      <td>0</td>\n",
       "      <td>215</td>\n",
       "      <td>0.976656</td>\n",
       "    </tr>\n",
       "  </tbody>\n",
       "</table>\n",
       "</div>"
      ],
      "text/plain": [
       "                 r   g    b  distance\n",
       "darkviolet     175   0  215  0.991837\n",
       "darkmagenta    135   0  175  0.991199\n",
       "magenta1       255   0  255  0.987829\n",
       "magenta3       215   0  215  0.987829\n",
       "fuchsia        255   0  255  0.987829\n",
       "mediumorchid1  255  95  255  0.987592\n",
       "purple         175   0  255  0.987590\n",
       "orchid         215  95  215  0.980753\n",
       "mediumorchid   175  95  215  0.979443\n",
       "magenta2       255   0  215  0.976656"
      ]
     },
     "execution_count": 15,
     "metadata": {},
     "output_type": "execute_result"
    }
   ],
   "source": [
    "df_render = similar(df, [100, 20, 120])\n",
    "df_render"
   ]
  },
  {
   "cell_type": "code",
   "execution_count": 16,
   "metadata": {},
   "outputs": [
    {
     "data": {
      "text/html": [
       "\n",
       "      <div style=\"background-color: rgba(175, 0, 215, 1); height: 20px;\"></div>\n",
       "    "
      ],
      "text/plain": [
       "<IPython.core.display.HTML object>"
      ]
     },
     "metadata": {
      "isolated": true
     },
     "output_type": "display_data"
    },
    {
     "data": {
      "text/html": [
       "\n",
       "      <div style=\"background-color: rgba(135, 0, 175, 1); height: 20px;\"></div>\n",
       "    "
      ],
      "text/plain": [
       "<IPython.core.display.HTML object>"
      ]
     },
     "metadata": {
      "isolated": true
     },
     "output_type": "display_data"
    },
    {
     "data": {
      "text/html": [
       "\n",
       "      <div style=\"background-color: rgba(255, 0, 255, 1); height: 20px;\"></div>\n",
       "    "
      ],
      "text/plain": [
       "<IPython.core.display.HTML object>"
      ]
     },
     "metadata": {
      "isolated": true
     },
     "output_type": "display_data"
    },
    {
     "data": {
      "text/html": [
       "\n",
       "      <div style=\"background-color: rgba(215, 0, 215, 1); height: 20px;\"></div>\n",
       "    "
      ],
      "text/plain": [
       "<IPython.core.display.HTML object>"
      ]
     },
     "metadata": {
      "isolated": true
     },
     "output_type": "display_data"
    },
    {
     "data": {
      "text/html": [
       "\n",
       "      <div style=\"background-color: rgba(255, 0, 255, 1); height: 20px;\"></div>\n",
       "    "
      ],
      "text/plain": [
       "<IPython.core.display.HTML object>"
      ]
     },
     "metadata": {
      "isolated": true
     },
     "output_type": "display_data"
    },
    {
     "data": {
      "text/html": [
       "\n",
       "      <div style=\"background-color: rgba(255, 95, 255, 1); height: 20px;\"></div>\n",
       "    "
      ],
      "text/plain": [
       "<IPython.core.display.HTML object>"
      ]
     },
     "metadata": {
      "isolated": true
     },
     "output_type": "display_data"
    },
    {
     "data": {
      "text/html": [
       "\n",
       "      <div style=\"background-color: rgba(175, 0, 255, 1); height: 20px;\"></div>\n",
       "    "
      ],
      "text/plain": [
       "<IPython.core.display.HTML object>"
      ]
     },
     "metadata": {
      "isolated": true
     },
     "output_type": "display_data"
    },
    {
     "data": {
      "text/html": [
       "\n",
       "      <div style=\"background-color: rgba(215, 95, 215, 1); height: 20px;\"></div>\n",
       "    "
      ],
      "text/plain": [
       "<IPython.core.display.HTML object>"
      ]
     },
     "metadata": {
      "isolated": true
     },
     "output_type": "display_data"
    },
    {
     "data": {
      "text/html": [
       "\n",
       "      <div style=\"background-color: rgba(175, 95, 215, 1); height: 20px;\"></div>\n",
       "    "
      ],
      "text/plain": [
       "<IPython.core.display.HTML object>"
      ]
     },
     "metadata": {
      "isolated": true
     },
     "output_type": "display_data"
    },
    {
     "data": {
      "text/html": [
       "\n",
       "      <div style=\"background-color: rgba(255, 0, 215, 1); height: 20px;\"></div>\n",
       "    "
      ],
      "text/plain": [
       "<IPython.core.display.HTML object>"
      ]
     },
     "metadata": {
      "isolated": true
     },
     "output_type": "display_data"
    }
   ],
   "source": [
    "for c in df_render.index:\n",
    "    render_color(colors['{}'.format(c)])"
   ]
  }
 ],
 "metadata": {
  "kernelspec": {
   "display_name": "Python 3.8",
   "language": "python",
   "name": "py38"
  },
  "language_info": {
   "codemirror_mode": {
    "name": "ipython",
    "version": 3
   },
   "file_extension": ".py",
   "mimetype": "text/x-python",
   "name": "python",
   "nbconvert_exporter": "python",
   "pygments_lexer": "ipython3",
   "version": "3.8.13"
  }
 },
 "nbformat": 4,
 "nbformat_minor": 4
}
