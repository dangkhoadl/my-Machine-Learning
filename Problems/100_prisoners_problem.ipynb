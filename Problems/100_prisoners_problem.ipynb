{
 "cells": [
  {
   "cell_type": "markdown",
   "metadata": {},
   "source": [
    "# [100 prisoners problem](https://en.wikipedia.org/wiki/100_prisoners_problem)\n",
    "\n",
    "## Statement\n",
    "The director of a prison offers 100 death row prisoners, who are numbered from 1 to 100, a last chance. A room contains a cupboard with 100 drawers. The director randomly puts one prisoner's number in each closed drawer. The prisoners enter the room, one after another. Each prisoner may open and look into 50 drawers in any order. The drawers are closed again afterwards. If, during this search, every prisoner finds his number in one of the drawers, all prisoners are pardoned. If just one prisoner does not find his number, all prisoners die. Before the first prisoner enters the room, the prisoners may discuss strategy—but may not communicate once the first prisoner enters to look in the drawers. What is the prisoners' best strategy?\n",
    "\n",
    "## Analysis\n",
    "- If every prisoner selects 50 drawers at random\n",
    "$$p(all\\ suceed) = 0.5^{100}$$"
   ]
  },
  {
   "cell_type": "markdown",
   "metadata": {},
   "source": [
    "## Solution\n",
    "```\n",
    "Each prisoner first opens the drawer with his own number\n",
    "while(Not correct and still have chance):\n",
    "    Open the drawer with the number inside\n",
    "```\n",
    "\n",
    "## Analysis\n",
    "- Successful rate ~ 31.18% for n = 100 to produce graph subsets that have length < 50 (n/2)\n",
    "- Case sucess (8 prisoners)\n",
    "\n",
    "| Drawer Number | 1 | 2 | 3 | 4 | 5 | 6 | 7 | 8 |\n",
    "|---------------|---|---|---|---|---|---|---|---|\n",
    "| Inside Number | 7 | 4 | 6 | 8 | 1 | 3 | 5 | 2 |\n",
    "\n",
    "<img src=\"img/3.jpg\" alt=\"drawing\" width=\"400\"/>\n",
    "\n",
    "- Case failed (8 prisoners)\n",
    "\n",
    "| Drawer Number | 1 | 2 | 3 | 4 | 5 | 6 | 7 | 8 |\n",
    "|---------------|---|---|---|---|---|---|---|---|\n",
    "| Inside Number | 3 | 1 | 7 | 5 | 8 | 6 | 4 | 2 |\n",
    "\n",
    "<img src=\"img/4.jpg\" alt=\"drawing\" width=\"400\"/>"
   ]
  }
 ],
 "metadata": {
  "kernelspec": {
   "display_name": "Python 3.8",
   "language": "python",
   "name": "py38"
  },
  "language_info": {
   "codemirror_mode": {
    "name": "ipython",
    "version": 3
   },
   "file_extension": ".py",
   "mimetype": "text/x-python",
   "name": "python",
   "nbconvert_exporter": "python",
   "pygments_lexer": "ipython3",
   "version": "3.8.13"
  }
 },
 "nbformat": 4,
 "nbformat_minor": 2
}
