{
 "cells": [
  {
   "cell_type": "code",
   "execution_count": 1,
   "metadata": {},
   "outputs": [],
   "source": [
    "import random\n",
    "import numpy as np\n",
    "import matplotlib.pyplot as plt"
   ]
  },
  {
   "cell_type": "markdown",
   "metadata": {},
   "source": [
    "# 1. Gambler's Fallacy - Law of small numbers\n",
    "- Given\n",
    "    + A fair coin p(H) = p(T) = 0.5\n",
    "    + Each coin toss is `independent` from each other\n",
    "    + We plan to toss 200 times\n",
    "        + The 1st 100 tosses result observed: 70 H, 30 T\n",
    "- What is the best prediction of the next 100 tosses\n",
    "    + A: 30 H, 70 T -> Overall: 100 H, 100 T\n",
    "    + B: 50 H, 50 T -> Overall: 120 H, 80 T\n",
    "\n",
    "#### Solve\n",
    "\n",
    "- Let define\n",
    "    - H1: heads in the 1st 100 tosses\n",
    "    - H2: heads in the last 100 tosses\n",
    "\n",
    "- Because each toss is independent -> H1 and H2 are independent\n",
    "\n",
    "$$P(H_2|H_1) = P(H_2)$$\n",
    "\n",
    "- The past(H1) is fixed; The future is not depedent on the past -> `B` is likely to happens (120 H, 80 T)\n"
   ]
  },
  {
   "cell_type": "code",
   "execution_count": 2,
   "metadata": {},
   "outputs": [],
   "source": [
    "def do_exp(N=1000):\n",
    "    no_disp = 5\n",
    "    H_0_200_lst = []\n",
    "    \n",
    "    # Do exp N times\n",
    "    for exp in range(N):\n",
    "        # Do exp: tosses 200 times\n",
    "        res = random.choices(\n",
    "            ['H', 'T'], weights = [0.5, 0.5], k=200)\n",
    "    \n",
    "        # Get the 1st 100 tosses result\n",
    "        H_0_100 = 0\n",
    "        for i in res[:100]:\n",
    "            if i == 'H': H_0_100 += 1\n",
    "\n",
    "        # Get stats of the last 100 tosses if H_0_100 = 70\n",
    "        if H_0_100 == 70:\n",
    "            H_100_200 = 0\n",
    "            for i in res[100:]:\n",
    "                if i == 'H': H_100_200 += 1\n",
    "            H_0_200_lst.append(H_0_100 + H_100_200)\n",
    "            if no_disp > 0:\n",
    "                no_disp -= 1\n",
    "                print(f'''Number of H in the first 100 tosses: {H_0_100}\n",
    "Number of H in the last 100 tosses: {H_100_200}\n",
    "Overall: {H_0_100 + H_100_200} H\n",
    "''')\n",
    "    return sum(H_0_200_lst)/ len(H_0_200_lst), len(H_0_200_lst)"
   ]
  },
  {
   "cell_type": "code",
   "execution_count": 3,
   "metadata": {
    "scrolled": false
   },
   "outputs": [
    {
     "name": "stdout",
     "output_type": "stream",
     "text": [
      "Number of H in the first 100 tosses: 70\n",
      "Number of H in the last 100 tosses: 54\n",
      "Overall: 124 H\n",
      "\n",
      "Number of H in the first 100 tosses: 70\n",
      "Number of H in the last 100 tosses: 39\n",
      "Overall: 109 H\n",
      "\n",
      "Number of H in the first 100 tosses: 70\n",
      "Number of H in the last 100 tosses: 44\n",
      "Overall: 114 H\n",
      "\n",
      "Number of H in the first 100 tosses: 70\n",
      "Number of H in the last 100 tosses: 50\n",
      "Overall: 120 H\n",
      "\n",
      "Number of H in the first 100 tosses: 70\n",
      "Number of H in the last 100 tosses: 53\n",
      "Overall: 123 H\n",
      "\n",
      "Predict number of heads after 200 tosses given 1st 100 tosses has 70H: 119.8125, total cases: 16\n"
     ]
    }
   ],
   "source": [
    "pred, len_H_0_200 = do_exp(N=1000000)\n",
    "print(f\"Predict number of heads after 200 tosses given 1st 100 tosses has 70H: {pred}, total cases: {len_H_0_200}\")"
   ]
  },
  {
   "cell_type": "markdown",
   "metadata": {},
   "source": [
    "## Gambler's Fallacy vs Regression toward the mean\n",
    "-  Gambler's Fallacy and Regression toward the mean `are not contradict`\n",
    "\n",
    "- Regression toward the mean:\n",
    "    + If we observe an extreme result, for example toss a fair coin 3 times, result = HHH. RTTM said that the next observation will be less extreme (will not be HHH or TTT, should be THT or HTT, ...)\n",
    "    + `In the long run`, observations converge (slowly) toward the mean\n",
    "\n",
    "- Gambler's Fallacy:\n",
    "    + The result of the next oberservation is `independent` from the previous observation\n",
    "    + Gambler's Fallacy is well applied in `the short run (Law of small numbers)`, for example toss a fair coin 3 times, result = 111. The next toss can be either 0 or 1 equally"
   ]
  },
  {
   "cell_type": "markdown",
   "metadata": {},
   "source": [
    "# 2. Law of Large Numbers\n",
    "#### Law of Large Numbers\n",
    "- The average of the results obtained from a large number of trials should be close to the expected value\n",
    "- As the sample size increase, the sample means gets closer to the population mean"
   ]
  },
  {
   "cell_type": "code",
   "execution_count": 4,
   "metadata": {},
   "outputs": [],
   "source": [
    "# Population\n",
    "mu = 5\n",
    "std = 10\n",
    "\n",
    "def get_sample(sample_size):\n",
    "    '''Experiment: Normal distribution'''\n",
    "    return np.random.randn(sample_size)*std + mu"
   ]
  },
  {
   "cell_type": "code",
   "execution_count": 5,
   "metadata": {},
   "outputs": [
    {
     "name": "stdout",
     "output_type": "stream",
     "text": [
      "sample size = 10, population mean = 5, sample mean = 9.738496403112821\n",
      "sample size = 100, population mean = 5, sample mean = 5.507672063057483\n",
      "sample size = 1000, population mean = 5, sample mean = 4.725234693164011\n",
      "sample size = 10000, population mean = 5, sample mean = 5.1662257413076125\n",
      "sample size = 100000, population mean = 5, sample mean = 5.020023429391301\n",
      "sample size = 1000000, population mean = 5, sample mean = 4.979674064009714\n",
      "sample size = 10000000, population mean = 5, sample mean = 4.997868179497323\n"
     ]
    }
   ],
   "source": [
    "for sample_size in [10,100,1000,10000,100000,int(1e6),int(1e7)]:\n",
    "    print(f'sample size = {sample_size}, population mean = {mu}, sample mean = {get_sample(sample_size).mean()}')"
   ]
  },
  {
   "cell_type": "markdown",
   "metadata": {},
   "source": [
    "# 3. Central Limit Theorem\n",
    "- Given a population: (Applied to any type of distribution)\n",
    "    + Take N samples from population\n",
    "- As N increased, The distribution of samples means will be normal distributed $\\hat{\\mu} \\sim N(\\mu, \\sigma)$\n",
    "    + mean of samples mean = population mean\n",
    "\n",
    "#### Application\n",
    "- Significance Tests\n",
    "- Confidence Intervals\n"
   ]
  },
  {
   "cell_type": "code",
   "execution_count": 6,
   "metadata": {},
   "outputs": [],
   "source": [
    "def get_sample_2_dice(sample_size):\n",
    "    '''Experiment: Sum of 2 dice rolls'''\n",
    "    results = np.random.randint(1, 7, sample_size) + np.random.randint(1, 7, sample_size) \n",
    "    return results.mean()\n",
    "\n",
    "def get_sample_means(sample_size, N=10000):\n",
    "    sample_means = []\n",
    "    for n in range(N):\n",
    "        sample_mean = get_sample_2_dice(sample_size=sample_size).mean()\n",
    "        sample_means.append(sample_mean)\n",
    "    return np.array(sample_means)"
   ]
  },
  {
   "cell_type": "code",
   "execution_count": 7,
   "metadata": {},
   "outputs": [
    {
     "name": "stdout",
     "output_type": "stream",
     "text": [
      "Sample mean ~ N(6.998844000000001, 0.7623836802770371)\n"
     ]
    },
    {
     "data": {
      "image/png": "[encoded data removed]",
      "text/plain": [
       "<Figure size 432x288 with 1 Axes>"
      ]
     },
     "metadata": {
      "needs_background": "light"
     },
     "output_type": "display_data"
    }
   ],
   "source": [
    "sample_means = get_sample_means(sample_size=10, N=100000)\n",
    "mu_hat = sample_means.mean()\n",
    "sigma_hat = sample_means.std(ddof=1)\n",
    "\n",
    "print(f'Sample mean ~ N({mu_hat}, {sigma_hat})')\n",
    "\n",
    "plt.hist(x=sample_means, bins=100)\n",
    "plt.show()"
   ]
  },
  {
   "cell_type": "markdown",
   "metadata": {},
   "source": [
    "#### Population ~ N\n",
    "- Given a population $\\sim N(\\mu, \\sigma)$\n",
    "    + Take N samples from population\n",
    "- As N increased, The distribution of samples means will be normal distributed $\\hat{\\mu} \\sim N \\left(\\mu, \\frac{\\sigma}{\\sqrt{\\text{sample size}}} \\right)$"
   ]
  },
  {
   "cell_type": "code",
   "execution_count": 8,
   "metadata": {},
   "outputs": [],
   "source": [
    "# Population\n",
    "mu = 5\n",
    "std = 10\n",
    "\n",
    "def get_sample(sample_size):\n",
    "    '''Experiment: Normal distribution'''\n",
    "    return np.random.randn(sample_size)*std + mu\n",
    "\n",
    "def get_sample_means(sample_size, N=10000):\n",
    "    sample_means = []\n",
    "    for n in range(N):\n",
    "        sample_mean = get_sample(sample_size=sample_size).mean()\n",
    "        sample_means.append(sample_mean)\n",
    "    return np.array(sample_means)"
   ]
  },
  {
   "cell_type": "code",
   "execution_count": 9,
   "metadata": {},
   "outputs": [
    {
     "name": "stdout",
     "output_type": "stream",
     "text": [
      "===== Sample size = 10 =====\n",
      "Population ~ N(5, 10)\n",
      "Sample mean ~ N(5.004467250435187, 3.1643427781881175)\n"
     ]
    },
    {
     "data": {
      "image/png": "[encoded data removed]",
      "text/plain": [
       "<Figure size 432x288 with 1 Axes>"
      ]
     },
     "metadata": {
      "needs_background": "light"
     },
     "output_type": "display_data"
    },
    {
     "name": "stdout",
     "output_type": "stream",
     "text": [
      "===== Sample size = 100 =====\n",
      "Population ~ N(5, 10)\n",
      "Sample mean ~ N(4.996029151832484, 0.9959846528230093)\n"
     ]
    },
    {
     "data": {
      "image/png": "[encoded data removed]",
      "text/plain": [
       "<Figure size 432x288 with 1 Axes>"
      ]
     },
     "metadata": {
      "needs_background": "light"
     },
     "output_type": "display_data"
    },
    {
     "name": "stdout",
     "output_type": "stream",
     "text": [
      "===== Sample size = 1000 =====\n",
      "Population ~ N(5, 10)\n",
      "Sample mean ~ N(4.998601068093058, 0.3176363520303667)\n"
     ]
    },
    {
     "data": {
      "image/png": "[encoded data removed]",
      "text/plain": [
       "<Figure size 432x288 with 1 Axes>"
      ]
     },
     "metadata": {
      "needs_background": "light"
     },
     "output_type": "display_data"
    }
   ],
   "source": [
    "for sample_size in [10,100,1000]:\n",
    "    sample_means = get_sample_means(sample_size=sample_size, N=100000)\n",
    "    mu_hat = sample_means.mean()\n",
    "    sigma_hat = sample_means.std(ddof=1)\n",
    "\n",
    "    print(f'===== Sample size = {sample_size} =====')\n",
    "    print(f'Population ~ N({mu}, {std})')\n",
    "    print(f'Sample mean ~ N({mu_hat}, {sigma_hat})')\n",
    "\n",
    "    plt.hist(sample_means, bins=100)\n",
    "    plt.show()"
   ]
  }
 ],
 "metadata": {
  "kernelspec": {
   "display_name": "Python 3.8",
   "language": "python",
   "name": "py38"
  },
  "language_info": {
   "codemirror_mode": {
    "name": "ipython",
    "version": 3
   },
   "file_extension": ".py",
   "mimetype": "text/x-python",
   "name": "python",
   "nbconvert_exporter": "python",
   "pygments_lexer": "ipython3",
   "version": "3.8.13"
  }
 },
 "nbformat": 4,
 "nbformat_minor": 4
}
