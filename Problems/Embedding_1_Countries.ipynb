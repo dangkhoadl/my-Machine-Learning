{
 "cells": [
  {
   "cell_type": "markdown",
   "metadata": {},
   "source": [
    "# [Country Embedding](https://philippmuens.com/word2vec-intuition/)"
   ]
  },
  {
   "cell_type": "code",
   "execution_count": 1,
   "metadata": {},
   "outputs": [],
   "source": [
    "import json\n",
    "\n",
    "import pandas as pd\n",
    "import seaborn as sns\n",
    "import numpy as np\n",
    "\n",
    "# prettier Matplotlib plots\n",
    "import matplotlib.pyplot as plt\n",
    "import matplotlib.style as style\n",
    "style.use('seaborn')"
   ]
  },
  {
   "cell_type": "markdown",
   "metadata": {},
   "source": [
    "# 1. Dataset\n",
    "#### Download"
   ]
  },
  {
   "cell_type": "code",
   "execution_count": 2,
   "metadata": {},
   "outputs": [],
   "source": [
    "%%bash\n",
    "download=1\n",
    "\n",
    "for FILE in \"data/country-by-surface-area.json\" \"data/country-by-population.json\"; do\n",
    "    if [[ ! -f  ${FILE} ]]; then\n",
    "        download=0\n",
    "    fi\n",
    "done\n",
    "\n",
    "\n",
    "if [[ download -eq 0 ]]; then\n",
    "    mkdir -p data\n",
    "    wget -nc \\\n",
    "        https://raw.githubusercontent.com/samayo/country-json/master/src/country-by-surface-area.json \\\n",
    "        -O data/country-by-surface-area.json 2> /dev/null\n",
    "    wget -nc \\\n",
    "        https://raw.githubusercontent.com/samayo/country-json/master/src/country-by-population.json \\\n",
    "        -O data/country-by-population.json 2> /dev/null\n",
    "fi"
   ]
  },
  {
   "cell_type": "markdown",
   "metadata": {},
   "source": [
    "#### Build df"
   ]
  },
  {
   "cell_type": "code",
   "execution_count": 3,
   "metadata": {},
   "outputs": [
    {
     "name": "stdout",
     "output_type": "stream",
     "text": [
      "227\n"
     ]
    },
    {
     "data": {
      "text/html": [
       "<div>\n",
       "<style scoped>\n",
       "    .dataframe tbody tr th:only-of-type {\n",
       "        vertical-align: middle;\n",
       "    }\n",
       "\n",
       "    .dataframe tbody tr th {\n",
       "        vertical-align: top;\n",
       "    }\n",
       "\n",
       "    .dataframe thead th {\n",
       "        text-align: right;\n",
       "    }\n",
       "</style>\n",
       "<table border=\"1\" class=\"dataframe\">\n",
       "  <thead>\n",
       "    <tr style=\"text-align: right;\">\n",
       "      <th></th>\n",
       "      <th>area</th>\n",
       "      <th>population</th>\n",
       "    </tr>\n",
       "    <tr>\n",
       "      <th>country</th>\n",
       "      <th></th>\n",
       "      <th></th>\n",
       "    </tr>\n",
       "  </thead>\n",
       "  <tbody>\n",
       "    <tr>\n",
       "      <td>Aruba</td>\n",
       "      <td>193.0</td>\n",
       "      <td>105264.0</td>\n",
       "    </tr>\n",
       "    <tr>\n",
       "      <td>Afghanistan</td>\n",
       "      <td>652090.0</td>\n",
       "      <td>35530081.0</td>\n",
       "    </tr>\n",
       "    <tr>\n",
       "      <td>Angola</td>\n",
       "      <td>1246700.0</td>\n",
       "      <td>29784193.0</td>\n",
       "    </tr>\n",
       "    <tr>\n",
       "      <td>Anguilla</td>\n",
       "      <td>96.0</td>\n",
       "      <td>14909.0</td>\n",
       "    </tr>\n",
       "    <tr>\n",
       "      <td>Albania</td>\n",
       "      <td>28748.0</td>\n",
       "      <td>2930187.0</td>\n",
       "    </tr>\n",
       "  </tbody>\n",
       "</table>\n",
       "</div>"
      ],
      "text/plain": [
       "                  area  population\n",
       "country                           \n",
       "Aruba            193.0    105264.0\n",
       "Afghanistan   652090.0  35530081.0\n",
       "Angola       1246700.0  29784193.0\n",
       "Anguilla          96.0     14909.0\n",
       "Albania        28748.0   2930187.0"
      ]
     },
     "execution_count": 3,
     "metadata": {},
     "output_type": "execute_result"
    }
   ],
   "source": [
    "df_surface_area = pd.read_json(\"data/country-by-surface-area.json\")\n",
    "df_population = pd.read_json(\"data/country-by-population.json\")\n",
    "\n",
    "df_population.dropna(inplace=True)\n",
    "df_surface_area.dropna(inplace=True)\n",
    "\n",
    "df = pd.merge(df_surface_area, df_population, on='country')\n",
    "df.set_index('country', inplace=True)\n",
    "\n",
    "print(len(df))\n",
    "df.head()"
   ]
  },
  {
   "cell_type": "markdown",
   "metadata": {},
   "source": [
    "#### Visualize some countries"
   ]
  },
  {
   "cell_type": "code",
   "execution_count": 4,
   "metadata": {},
   "outputs": [
    {
     "name": "stdout",
     "output_type": "stream",
     "text": [
      "12\n"
     ]
    },
    {
     "data": {
      "text/html": [
       "<div>\n",
       "<style scoped>\n",
       "    .dataframe tbody tr th:only-of-type {\n",
       "        vertical-align: middle;\n",
       "    }\n",
       "\n",
       "    .dataframe tbody tr th {\n",
       "        vertical-align: top;\n",
       "    }\n",
       "\n",
       "    .dataframe thead th {\n",
       "        text-align: right;\n",
       "    }\n",
       "</style>\n",
       "<table border=\"1\" class=\"dataframe\">\n",
       "  <thead>\n",
       "    <tr style=\"text-align: right;\">\n",
       "      <th></th>\n",
       "      <th>area</th>\n",
       "      <th>population</th>\n",
       "    </tr>\n",
       "    <tr>\n",
       "      <th>country</th>\n",
       "      <th></th>\n",
       "      <th></th>\n",
       "    </tr>\n",
       "  </thead>\n",
       "  <tbody>\n",
       "    <tr>\n",
       "      <td>Germany</td>\n",
       "      <td>357022.0</td>\n",
       "      <td>82114224.0</td>\n",
       "    </tr>\n",
       "    <tr>\n",
       "      <td>Spain</td>\n",
       "      <td>505992.0</td>\n",
       "      <td>46354321.0</td>\n",
       "    </tr>\n",
       "    <tr>\n",
       "      <td>France</td>\n",
       "      <td>551500.0</td>\n",
       "      <td>64979548.0</td>\n",
       "    </tr>\n",
       "    <tr>\n",
       "      <td>United Kingdom</td>\n",
       "      <td>242900.0</td>\n",
       "      <td>66181585.0</td>\n",
       "    </tr>\n",
       "    <tr>\n",
       "      <td>Iraq</td>\n",
       "      <td>438317.0</td>\n",
       "      <td>38274618.0</td>\n",
       "    </tr>\n",
       "  </tbody>\n",
       "</table>\n",
       "</div>"
      ],
      "text/plain": [
       "                    area  population\n",
       "country                             \n",
       "Germany         357022.0  82114224.0\n",
       "Spain           505992.0  46354321.0\n",
       "France          551500.0  64979548.0\n",
       "United Kingdom  242900.0  66181585.0\n",
       "Iraq            438317.0  38274618.0"
      ]
     },
     "execution_count": 4,
     "metadata": {},
     "output_type": "execute_result"
    }
   ],
   "source": [
    "df_small = df[\n",
    "    (df['area'] > 100000) & (df['area'] < 600000) &\n",
    "    (df['population'] > 35000000) & (df['population'] < 100000000)\n",
    "]\n",
    "\n",
    "print(len(df_small))\n",
    "df_small.head()"
   ]
  },
  {
   "cell_type": "code",
   "execution_count": 5,
   "metadata": {},
   "outputs": [
    {
     "data": {
      "image/png": "[encoded data removed]",
      "text/plain": [
       "<Figure size 720x720 with 1 Axes>"
      ]
     },
     "metadata": {
      "needs_background": "light"
     },
     "output_type": "display_data"
    }
   ],
   "source": [
    "fig, ax = plt.subplots()\n",
    "df_small.plot(\n",
    "    x='area',\n",
    "    y='population',\n",
    "    figsize=(10, 10),\n",
    "    kind='scatter', ax=ax)\n",
    "\n",
    "for k, v in df_small.iterrows():\n",
    "    ax.annotate(k, v)\n",
    "\n",
    "fig.canvas.draw()"
   ]
  },
  {
   "cell_type": "markdown",
   "metadata": {},
   "source": [
    "# 2. Model\n",
    "####  Euclidean distance\n",
    "\n",
    "$$d(x,y)\\ =\\ \\sqrt{\\sum\\limits_{i=1}^{N}(x_i\\ -\\ y_i)^2}$$"
   ]
  },
  {
   "cell_type": "code",
   "execution_count": 6,
   "metadata": {},
   "outputs": [],
   "source": [
    "def euclidean_distance(x: (int, int), y: (int, int)) -> int:\n",
    "    '''\n",
    "    Note: cast the result into an int which makes it easier to compare\n",
    "    '''\n",
    "    x1, x2 = x\n",
    "    y1, y2 = y\n",
    "\n",
    "    result = np.sqrt((x1 - x2)**2 + (y1 - y2)**2)\n",
    "    return int(round(result, 0))"
   ]
  },
  {
   "cell_type": "markdown",
   "metadata": {},
   "source": [
    "#### Finding similar countries based on population and area"
   ]
  },
  {
   "cell_type": "code",
   "execution_count": 7,
   "metadata": {},
   "outputs": [],
   "source": [
    "from collections import defaultdict\n",
    "\n",
    "similar_countries = defaultdict(list)\n",
    "\n",
    "for country in df.iterrows():\n",
    "    name = country[0]\n",
    "    area = country[1]['area']\n",
    "    population = country[1]['population']\n",
    "    \n",
    "    for other_country in df.iterrows():\n",
    "        other_name = other_country[0]\n",
    "        other_area = other_country[1]['area']\n",
    "        other_population = other_country[1]['population']\n",
    "        \n",
    "        if other_name == name: continue\n",
    "        \n",
    "        x = (area, other_area)\n",
    "        y = (population, other_population)\n",
    "        similar_countries[name].append(\n",
    "            (euclidean_distance(x, y), other_name))\n",
    "\n",
    "for country in similar_countries.keys():\n",
    "    similar_countries[country].sort(key=lambda x: x[0], reverse=True)"
   ]
  },
  {
   "cell_type": "code",
   "execution_count": 8,
   "metadata": {
    "scrolled": false
   },
   "outputs": [
    {
     "data": {
      "text/plain": [
       "[(1314009093, 'China'),\n",
       " (1243642839, 'India'),\n",
       " (229096766, 'United States'),\n",
       " (168457922, 'Indonesia'),\n",
       " (114043793, 'Brazil'),\n",
       " (101476218, 'Pakistan'),\n",
       " (95541326, 'Pitcairn'),\n",
       " (95540776, 'Cocos (Keeling) Islands'),\n",
       " (95540376, 'Holy See (Vatican City State)'),\n",
       " (95540076, 'Tokelau')]"
      ]
     },
     "execution_count": 8,
     "metadata": {},
     "output_type": "execute_result"
    }
   ],
   "source": [
    "# List of Vietnam similar countries based on population and area\n",
    "similar_countries['Vietnam'][:10]"
   ]
  },
  {
   "cell_type": "code",
   "execution_count": 9,
   "metadata": {},
   "outputs": [
    {
     "data": {
      "text/plain": [
       "[(1403841188, 'China'),\n",
       " (1333475333, 'India'),\n",
       " (318888101, 'United States'),\n",
       " (258289552, 'Indonesia'),\n",
       " (203758763, 'Brazil'),\n",
       " (191308765, 'Pakistan'),\n",
       " (185179768, 'Nigeria'),\n",
       " (158960972, 'Bangladesh'),\n",
       " (139331110, 'Russian Federation'),\n",
       " (123469951, 'Mexico')]"
      ]
     },
     "execution_count": 9,
     "metadata": {},
     "output_type": "execute_result"
    }
   ],
   "source": [
    "# List of Singapore similar countries based on population and area\n",
    "similar_countries['Singapore'][:10]"
   ]
  }
 ],
 "metadata": {
  "kernelspec": {
   "display_name": "Python 3.8",
   "language": "python",
   "name": "py38"
  },
  "language_info": {
   "codemirror_mode": {
    "name": "ipython",
    "version": 3
   },
   "file_extension": ".py",
   "mimetype": "text/x-python",
   "name": "python",
   "nbconvert_exporter": "python",
   "pygments_lexer": "ipython3",
   "version": "3.8.13"
  }
 },
 "nbformat": 4,
 "nbformat_minor": 4
}
