{
 "cells": [
  {
   "cell_type": "markdown",
   "metadata": {},
   "source": [
    "# Problem\n",
    "- A coin with probability to get tail = 0.5\n",
    "    - Toss until you get a tail\n",
    "    - How many time will you get tail\n",
    "\n",
    "#### Solution 1\n",
    "- Probability Tree\n",
    "\n",
    "<img src=\"./img/1.jpg\" width=\"500\"/>\n",
    "\n",
    "- Name x = number of times to get 1 tail\n",
    "    + $E(X)\\ =\\ 1*0.5 + 2*0.5^2 + 3*0.5^3 + ... = 2$ "
   ]
  }
 ],
 "metadata": {
  "kernelspec": {
   "display_name": "Python 3",
   "language": "python",
   "name": "python3"
  },
  "language_info": {
   "codemirror_mode": {
    "name": "ipython",
    "version": 3
   },
   "file_extension": ".py",
   "mimetype": "text/x-python",
   "name": "python",
   "nbconvert_exporter": "python",
   "pygments_lexer": "ipython3",
   "version": "3.8.3"
  }
 },
 "nbformat": 4,
 "nbformat_minor": 2
}
