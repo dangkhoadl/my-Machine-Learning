{
 "cells": [
  {
   "cell_type": "markdown",
   "metadata": {},
   "source": [
    "# Hyperparameters\n",
    "\n",
    "\n",
    "### Network Architecture\n",
    "- Number of Layers\n",
    "- Number of Nodes\n",
    "- Layer types\n",
    "- Activation function\n",
    "\n",
    "### Regularization\n",
    "- Batch Norm (Yes/No)\n",
    "- Dropout (Yes/No)\n",
    "    + probability\n",
    "- Weight Regularization (Yes/No)\n",
    "- Weight Initiation: Gaussian, Uniform, Scaled...\n",
    "\n",
    "### Data Augmentation\n",
    "- Types of transformation\n",
    "\n",
    "### Optimizers\n",
    "- Optimizer types: Adam, SGD, Ada...\n",
    "    + Optimizer parameters\n",
    "- Learning Rate\n",
    "- Batch size"
   ]
  },
  {
   "cell_type": "markdown",
   "metadata": {},
   "source": [
    "# Methods to do Hyperparameter Optimization\n",
    "- Random\n",
    "- Grid Search\n",
    "- Bayesian Optimization"
   ]
  }
 ],
 "metadata": {
  "kernelspec": {
   "display_name": "Python 3.7",
   "language": "python",
   "name": "py37"
  },
  "language_info": {
   "codemirror_mode": {
    "name": "ipython",
    "version": 3
   },
   "file_extension": ".py",
   "mimetype": "text/x-python",
   "name": "python",
   "nbconvert_exporter": "python",
   "pygments_lexer": "ipython3",
   "version": "3.7.9"
  }
 },
 "nbformat": 4,
 "nbformat_minor": 2
}
